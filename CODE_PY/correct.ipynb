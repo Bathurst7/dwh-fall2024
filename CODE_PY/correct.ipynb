{
 "cells": [
  {
   "cell_type": "code",
   "execution_count": 17,
   "metadata": {},
   "outputs": [],
   "source": [
    "import numpy as np \n",
    "import pandas as pd \n",
    "from sqlalchemy import create_engine\n",
    "from fastavro import writer, reader\n",
    "from fastavro.schema import parse_schema\n",
    "import datetime"
   ]
  },
  {
   "cell_type": "code",
   "execution_count": 25,
   "metadata": {},
   "outputs": [],
   "source": [
    "import pandas as pd\n",
    "from sqlalchemy import create_engine\n",
    "from fastavro import writer, parse_schema\n",
    "\n",
    "# Define connection parameters\n",
    "user_name = 'postgres'\n",
    "password = 'Ducanh712'\n",
    "ip = '35.188.10.153'\n",
    "database_name = 'northwind-db'\n",
    "connection_string = (\n",
    "    f\"postgresql+psycopg2://{user_name}:{password}@{ip}:5432/{database_name}\"\n",
    ")\n",
    "engine = create_engine(connection_string)\n",
    "\n",
    "# Fetch all table names from the PostgreSQL database\n",
    "def fetch_tables_name(engine):\n",
    "    with engine.connect() as conn:\n",
    "        query = \"SELECT table_name FROM INFORMATION_SCHEMA.TABLES WHERE table_schema = 'public' AND table_type = 'BASE TABLE';\"\n",
    "        # Write table names to the pandas dataframe\n",
    "        table_names = pd.read_sql(query, conn)\n",
    "    return table_names['table_name'].tolist()  # Return as a list\n",
    "\n",
    "# Function to check if a column is datetime-like\n",
    "def is_datetime_column(df, col):\n",
    "    \"\"\"\n",
    "    Check if a column is datetime-like. Avoid misidentifying sparse columns as datetime.\n",
    "    \"\"\"\n",
    "    non_null_values = df[col].dropna()  # Ignore nulls during the check\n",
    "    if non_null_values.empty:  # If all values are null, it can't be datetime\n",
    "        return False\n",
    "\n",
    "    # Attempt to convert the non-null values to datetime\n",
    "    try:\n",
    "        pd.to_datetime(non_null_values, errors='raise')  # Raise error for invalid dates\n",
    "        return True  # If conversion succeeds, it's a datetime column\n",
    "    except (ValueError, TypeError):\n",
    "        return False\n",
    "\n",
    "# Function to generate Avro schema from a Pandas DataFrame\n",
    "def get_avro_schema(df, data_type_to_avro, table_name, namespace=\"Northwind-OLTP\", doc=\"Extracted from OLTP\"):\n",
    "    schema = {\n",
    "        \"doc\": doc,                # Description of the schema\n",
    "        \"name\": table_name,        # The name of the record\n",
    "        \"namespace\": namespace,    # Namespace for the schema\n",
    "        \"type\": \"record\",          # Type of Avro schema: 'record'\n",
    "        \"fields\": []               # List of fields\n",
    "    }\n",
    "\n",
    "    # Add fields based on the DataFrame columns and their types\n",
    "    for col in df.columns:\n",
    "        dtype = df[col].dtype\n",
    "        avro_type = data_type_to_avro.get(str(dtype), 'string')  # Default to 'string' for unknown types\n",
    "\n",
    "        # Check if the column has null values\n",
    "        if df[col].isnull().any():\n",
    "            # Allow null in the field\n",
    "            avro_type = [\"null\", avro_type]  # Avro allows unions of types\n",
    "\n",
    "        # Check for datetime64 and handle accordingly\n",
    "        if pd.api.types.is_datetime64_any_dtype(df[col]):\n",
    "            # For datetime columns, map them to 'string' in Avro (ISO 8601 format)\n",
    "            avro_type = [\"null\", \"string\"]  # Allow null and use string for datetime\n",
    "\n",
    "        # Special case: handle boolean columns explicitly\n",
    "        elif pd.api.types.is_bool_dtype(df[col]):\n",
    "            avro_type = [\"null\", \"boolean\"]  # Allow null and map to Avro boolean\n",
    "\n",
    "        # Append field info to the schema\n",
    "        schema['fields'].append({\n",
    "            \"name\": col,             # Column name\n",
    "            \"type\": avro_type        # Mapped Avro type\n",
    "        })\n",
    "\n",
    "    # Parse and return the schema using fastavro's parse_schema function\n",
    "    return parse_schema(schema)\n",
    "\n",
    "# Function to process the DataFrame and convert datetime-like columns\n",
    "def process_dataframe(df, original_types):\n",
    "    for col in df.columns:\n",
    "        if original_types[col] == 'object':\n",
    "            # Step 1: Check if the column contains datetime-like data (in object dtype)\n",
    "            if is_datetime_column(df, col):\n",
    "                # Convert object column to datetime type if it contains datetime-like values\n",
    "                df[col] = pd.to_datetime(df[col], errors='coerce')  # Invalid entries become NaT\n",
    "                # Convert the datetime64 column to string in ISO 8601 format\n",
    "                df[col] = df[col].dt.strftime('%Y-%m-%dT%H:%M:%S')\n",
    "                # Replace NaT with None (Avro expects None for missing values)\n",
    "                df[col] = df[col].where(df[col].notnull(), None)\n",
    "            else:\n",
    "                # If not datetime, ensure it's a string and handle missing values (nan, 'None', '')\n",
    "                df[col] = df[col].astype(str).replace({'nan': None, 'None': None, '': None})\n",
    "        \n",
    "        elif original_types[col] == 'datetime64[ns]':\n",
    "            # Step 2: Handle datetime64 columns, convert to ISO 8601 string format\n",
    "            df[col] = df[col].dt.strftime('%Y-%m-%dT%H:%M:%S')  # Use ISO 8601 format for datetime values\n",
    "            # Ensure the datetime is now a string, as Avro expects a string for datetime fields\n",
    "\n",
    "        # Replace NaT values with None for consistency\n",
    "        df[col] = df[col].where(pd.notnull(df[col]), None)\n",
    "\n",
    "# Main function to extract data, process the DataFrame, and write to Avro\n",
    "def extract_data_to_df(engine, table_names, dtype_to_avro):\n",
    "    for table_name in table_names:\n",
    "        print(f\"Processing table {table_name}\")\n",
    "        with engine.connect() as conn:\n",
    "            query = f\"SELECT * FROM {table_name}\"\n",
    "            df = pd.read_sql(query, conn)\n",
    "        \n",
    "        # Track original types\n",
    "        original_types = df.dtypes\n",
    "\n",
    "        # Step 3: Process the dataframe to handle datetimes and convert to strings\n",
    "        process_dataframe(df, original_types)\n",
    "\n",
    "        # Generate the Avro schema\n",
    "        parsed_schema = get_avro_schema(df, dtype_to_avro, table_name)\n",
    "\n",
    "        # Writing the DataFrame to Avro\n",
    "        with open(f'{table_name}.avro', 'wb') as out:\n",
    "            # Convert DataFrame to dictionary and ensure NaT is replaced by None\n",
    "            records = df.to_dict(orient='records')\n",
    "\n",
    "            # Ensure NaT and NaN are replaced with None for the whole dataframe\n",
    "            for record in records:\n",
    "                for key, value in record.items():\n",
    "                    if pd.isna(value):  # Catch NaT explicitly using pd.isna()\n",
    "                        record[key] = None  # Replace NaT with None for Avro writing\n",
    "\n",
    "            # Write to Avro file\n",
    "            writer(out, parsed_schema, records)\n",
    "\n",
    "    return \"Writing successfully executed.\""
   ]
  },
  {
   "cell_type": "code",
   "execution_count": 26,
   "metadata": {},
   "outputs": [
    {
     "name": "stdout",
     "output_type": "stream",
     "text": [
      "Processing table customer_demographics\n",
      "Processing table customer_customer_demo\n",
      "Processing table customers\n"
     ]
    },
    {
     "name": "stderr",
     "output_type": "stream",
     "text": [
      "/tmp/ipykernel_2273/2659399595.py:34: UserWarning: Could not infer format, so each element will be parsed individually, falling back to `dateutil`. To ensure parsing is consistent and as-expected, please specify a format.\n",
      "  pd.to_datetime(non_null_values, errors='raise')  # Raise error for invalid dates\n",
      "/tmp/ipykernel_2273/2659399595.py:34: UserWarning: Could not infer format, so each element will be parsed individually, falling back to `dateutil`. To ensure parsing is consistent and as-expected, please specify a format.\n",
      "  pd.to_datetime(non_null_values, errors='raise')  # Raise error for invalid dates\n",
      "/tmp/ipykernel_2273/2659399595.py:34: UserWarning: Could not infer format, so each element will be parsed individually, falling back to `dateutil`. To ensure parsing is consistent and as-expected, please specify a format.\n",
      "  pd.to_datetime(non_null_values, errors='raise')  # Raise error for invalid dates\n",
      "/tmp/ipykernel_2273/2659399595.py:34: UserWarning: Could not infer format, so each element will be parsed individually, falling back to `dateutil`. To ensure parsing is consistent and as-expected, please specify a format.\n",
      "  pd.to_datetime(non_null_values, errors='raise')  # Raise error for invalid dates\n",
      "/tmp/ipykernel_2273/2659399595.py:34: UserWarning: Could not infer format, so each element will be parsed individually, falling back to `dateutil`. To ensure parsing is consistent and as-expected, please specify a format.\n",
      "  pd.to_datetime(non_null_values, errors='raise')  # Raise error for invalid dates\n",
      "/tmp/ipykernel_2273/2659399595.py:34: UserWarning: Could not infer format, so each element will be parsed individually, falling back to `dateutil`. To ensure parsing is consistent and as-expected, please specify a format.\n",
      "  pd.to_datetime(non_null_values, errors='raise')  # Raise error for invalid dates\n",
      "/tmp/ipykernel_2273/2659399595.py:34: UserWarning: Could not infer format, so each element will be parsed individually, falling back to `dateutil`. To ensure parsing is consistent and as-expected, please specify a format.\n",
      "  pd.to_datetime(non_null_values, errors='raise')  # Raise error for invalid dates\n",
      "/tmp/ipykernel_2273/2659399595.py:34: UserWarning: Could not infer format, so each element will be parsed individually, falling back to `dateutil`. To ensure parsing is consistent and as-expected, please specify a format.\n",
      "  pd.to_datetime(non_null_values, errors='raise')  # Raise error for invalid dates\n",
      "/tmp/ipykernel_2273/2659399595.py:34: UserWarning: Could not infer format, so each element will be parsed individually, falling back to `dateutil`. To ensure parsing is consistent and as-expected, please specify a format.\n",
      "  pd.to_datetime(non_null_values, errors='raise')  # Raise error for invalid dates\n",
      "/tmp/ipykernel_2273/2659399595.py:34: UserWarning: Could not infer format, so each element will be parsed individually, falling back to `dateutil`. To ensure parsing is consistent and as-expected, please specify a format.\n",
      "  pd.to_datetime(non_null_values, errors='raise')  # Raise error for invalid dates\n",
      "/tmp/ipykernel_2273/2659399595.py:34: UserWarning: Could not infer format, so each element will be parsed individually, falling back to `dateutil`. To ensure parsing is consistent and as-expected, please specify a format.\n",
      "  pd.to_datetime(non_null_values, errors='raise')  # Raise error for invalid dates\n"
     ]
    },
    {
     "name": "stdout",
     "output_type": "stream",
     "text": [
      "Processing table employees\n"
     ]
    },
    {
     "name": "stderr",
     "output_type": "stream",
     "text": [
      "/tmp/ipykernel_2273/2659399595.py:34: UserWarning: Could not infer format, so each element will be parsed individually, falling back to `dateutil`. To ensure parsing is consistent and as-expected, please specify a format.\n",
      "  pd.to_datetime(non_null_values, errors='raise')  # Raise error for invalid dates\n",
      "/tmp/ipykernel_2273/2659399595.py:34: UserWarning: Could not infer format, so each element will be parsed individually, falling back to `dateutil`. To ensure parsing is consistent and as-expected, please specify a format.\n",
      "  pd.to_datetime(non_null_values, errors='raise')  # Raise error for invalid dates\n",
      "/tmp/ipykernel_2273/2659399595.py:34: UserWarning: Could not infer format, so each element will be parsed individually, falling back to `dateutil`. To ensure parsing is consistent and as-expected, please specify a format.\n",
      "  pd.to_datetime(non_null_values, errors='raise')  # Raise error for invalid dates\n",
      "/tmp/ipykernel_2273/2659399595.py:34: UserWarning: Could not infer format, so each element will be parsed individually, falling back to `dateutil`. To ensure parsing is consistent and as-expected, please specify a format.\n",
      "  pd.to_datetime(non_null_values, errors='raise')  # Raise error for invalid dates\n",
      "/tmp/ipykernel_2273/2659399595.py:34: UserWarning: Could not infer format, so each element will be parsed individually, falling back to `dateutil`. To ensure parsing is consistent and as-expected, please specify a format.\n",
      "  pd.to_datetime(non_null_values, errors='raise')  # Raise error for invalid dates\n",
      "/tmp/ipykernel_2273/2659399595.py:34: UserWarning: Could not infer format, so each element will be parsed individually, falling back to `dateutil`. To ensure parsing is consistent and as-expected, please specify a format.\n",
      "  pd.to_datetime(non_null_values, errors='raise')  # Raise error for invalid dates\n",
      "/tmp/ipykernel_2273/2659399595.py:34: UserWarning: Could not infer format, so each element will be parsed individually, falling back to `dateutil`. To ensure parsing is consistent and as-expected, please specify a format.\n",
      "  pd.to_datetime(non_null_values, errors='raise')  # Raise error for invalid dates\n",
      "/tmp/ipykernel_2273/2659399595.py:34: UserWarning: Could not infer format, so each element will be parsed individually, falling back to `dateutil`. To ensure parsing is consistent and as-expected, please specify a format.\n",
      "  pd.to_datetime(non_null_values, errors='raise')  # Raise error for invalid dates\n",
      "/tmp/ipykernel_2273/2659399595.py:34: UserWarning: Could not infer format, so each element will be parsed individually, falling back to `dateutil`. To ensure parsing is consistent and as-expected, please specify a format.\n",
      "  pd.to_datetime(non_null_values, errors='raise')  # Raise error for invalid dates\n",
      "/tmp/ipykernel_2273/2659399595.py:34: UserWarning: Could not infer format, so each element will be parsed individually, falling back to `dateutil`. To ensure parsing is consistent and as-expected, please specify a format.\n",
      "  pd.to_datetime(non_null_values, errors='raise')  # Raise error for invalid dates\n",
      "/tmp/ipykernel_2273/2659399595.py:34: UserWarning: Could not infer format, so each element will be parsed individually, falling back to `dateutil`. To ensure parsing is consistent and as-expected, please specify a format.\n",
      "  pd.to_datetime(non_null_values, errors='raise')  # Raise error for invalid dates\n",
      "/tmp/ipykernel_2273/2659399595.py:34: UserWarning: Could not infer format, so each element will be parsed individually, falling back to `dateutil`. To ensure parsing is consistent and as-expected, please specify a format.\n",
      "  pd.to_datetime(non_null_values, errors='raise')  # Raise error for invalid dates\n",
      "/tmp/ipykernel_2273/2659399595.py:34: UserWarning: Could not infer format, so each element will be parsed individually, falling back to `dateutil`. To ensure parsing is consistent and as-expected, please specify a format.\n",
      "  pd.to_datetime(non_null_values, errors='raise')  # Raise error for invalid dates\n"
     ]
    },
    {
     "name": "stdout",
     "output_type": "stream",
     "text": [
      "Processing table categories\n"
     ]
    },
    {
     "name": "stderr",
     "output_type": "stream",
     "text": [
      "/tmp/ipykernel_2273/2659399595.py:34: UserWarning: Could not infer format, so each element will be parsed individually, falling back to `dateutil`. To ensure parsing is consistent and as-expected, please specify a format.\n",
      "  pd.to_datetime(non_null_values, errors='raise')  # Raise error for invalid dates\n",
      "/tmp/ipykernel_2273/2659399595.py:34: UserWarning: Could not infer format, so each element will be parsed individually, falling back to `dateutil`. To ensure parsing is consistent and as-expected, please specify a format.\n",
      "  pd.to_datetime(non_null_values, errors='raise')  # Raise error for invalid dates\n"
     ]
    },
    {
     "name": "stdout",
     "output_type": "stream",
     "text": [
      "Processing table products\n"
     ]
    },
    {
     "name": "stderr",
     "output_type": "stream",
     "text": [
      "/tmp/ipykernel_2273/2659399595.py:34: UserWarning: Could not infer format, so each element will be parsed individually, falling back to `dateutil`. To ensure parsing is consistent and as-expected, please specify a format.\n",
      "  pd.to_datetime(non_null_values, errors='raise')  # Raise error for invalid dates\n",
      "/tmp/ipykernel_2273/2659399595.py:34: UserWarning: Could not infer format, so each element will be parsed individually, falling back to `dateutil`. To ensure parsing is consistent and as-expected, please specify a format.\n",
      "  pd.to_datetime(non_null_values, errors='raise')  # Raise error for invalid dates\n"
     ]
    },
    {
     "name": "stdout",
     "output_type": "stream",
     "text": [
      "Processing table suppliers\n"
     ]
    },
    {
     "name": "stderr",
     "output_type": "stream",
     "text": [
      "/tmp/ipykernel_2273/2659399595.py:34: UserWarning: Could not infer format, so each element will be parsed individually, falling back to `dateutil`. To ensure parsing is consistent and as-expected, please specify a format.\n",
      "  pd.to_datetime(non_null_values, errors='raise')  # Raise error for invalid dates\n",
      "/tmp/ipykernel_2273/2659399595.py:34: UserWarning: Could not infer format, so each element will be parsed individually, falling back to `dateutil`. To ensure parsing is consistent and as-expected, please specify a format.\n",
      "  pd.to_datetime(non_null_values, errors='raise')  # Raise error for invalid dates\n",
      "/tmp/ipykernel_2273/2659399595.py:34: UserWarning: Could not infer format, so each element will be parsed individually, falling back to `dateutil`. To ensure parsing is consistent and as-expected, please specify a format.\n",
      "  pd.to_datetime(non_null_values, errors='raise')  # Raise error for invalid dates\n",
      "/tmp/ipykernel_2273/2659399595.py:34: UserWarning: Could not infer format, so each element will be parsed individually, falling back to `dateutil`. To ensure parsing is consistent and as-expected, please specify a format.\n",
      "  pd.to_datetime(non_null_values, errors='raise')  # Raise error for invalid dates\n",
      "/tmp/ipykernel_2273/2659399595.py:34: UserWarning: Could not infer format, so each element will be parsed individually, falling back to `dateutil`. To ensure parsing is consistent and as-expected, please specify a format.\n",
      "  pd.to_datetime(non_null_values, errors='raise')  # Raise error for invalid dates\n",
      "/tmp/ipykernel_2273/2659399595.py:34: UserWarning: Could not infer format, so each element will be parsed individually, falling back to `dateutil`. To ensure parsing is consistent and as-expected, please specify a format.\n",
      "  pd.to_datetime(non_null_values, errors='raise')  # Raise error for invalid dates\n",
      "/tmp/ipykernel_2273/2659399595.py:34: UserWarning: Could not infer format, so each element will be parsed individually, falling back to `dateutil`. To ensure parsing is consistent and as-expected, please specify a format.\n",
      "  pd.to_datetime(non_null_values, errors='raise')  # Raise error for invalid dates\n",
      "/tmp/ipykernel_2273/2659399595.py:34: UserWarning: Could not infer format, so each element will be parsed individually, falling back to `dateutil`. To ensure parsing is consistent and as-expected, please specify a format.\n",
      "  pd.to_datetime(non_null_values, errors='raise')  # Raise error for invalid dates\n",
      "/tmp/ipykernel_2273/2659399595.py:34: UserWarning: Could not infer format, so each element will be parsed individually, falling back to `dateutil`. To ensure parsing is consistent and as-expected, please specify a format.\n",
      "  pd.to_datetime(non_null_values, errors='raise')  # Raise error for invalid dates\n",
      "/tmp/ipykernel_2273/2659399595.py:34: UserWarning: Could not infer format, so each element will be parsed individually, falling back to `dateutil`. To ensure parsing is consistent and as-expected, please specify a format.\n",
      "  pd.to_datetime(non_null_values, errors='raise')  # Raise error for invalid dates\n",
      "/tmp/ipykernel_2273/2659399595.py:34: UserWarning: Could not infer format, so each element will be parsed individually, falling back to `dateutil`. To ensure parsing is consistent and as-expected, please specify a format.\n",
      "  pd.to_datetime(non_null_values, errors='raise')  # Raise error for invalid dates\n"
     ]
    },
    {
     "name": "stdout",
     "output_type": "stream",
     "text": [
      "Processing table orders\n"
     ]
    },
    {
     "name": "stderr",
     "output_type": "stream",
     "text": [
      "/tmp/ipykernel_2273/2659399595.py:34: UserWarning: Could not infer format, so each element will be parsed individually, falling back to `dateutil`. To ensure parsing is consistent and as-expected, please specify a format.\n",
      "  pd.to_datetime(non_null_values, errors='raise')  # Raise error for invalid dates\n",
      "/tmp/ipykernel_2273/2659399595.py:34: UserWarning: Could not infer format, so each element will be parsed individually, falling back to `dateutil`. To ensure parsing is consistent and as-expected, please specify a format.\n",
      "  pd.to_datetime(non_null_values, errors='raise')  # Raise error for invalid dates\n",
      "/tmp/ipykernel_2273/2659399595.py:34: UserWarning: Could not infer format, so each element will be parsed individually, falling back to `dateutil`. To ensure parsing is consistent and as-expected, please specify a format.\n",
      "  pd.to_datetime(non_null_values, errors='raise')  # Raise error for invalid dates\n",
      "/tmp/ipykernel_2273/2659399595.py:34: UserWarning: Could not infer format, so each element will be parsed individually, falling back to `dateutil`. To ensure parsing is consistent and as-expected, please specify a format.\n",
      "  pd.to_datetime(non_null_values, errors='raise')  # Raise error for invalid dates\n",
      "/tmp/ipykernel_2273/2659399595.py:34: UserWarning: Could not infer format, so each element will be parsed individually, falling back to `dateutil`. To ensure parsing is consistent and as-expected, please specify a format.\n",
      "  pd.to_datetime(non_null_values, errors='raise')  # Raise error for invalid dates\n",
      "/tmp/ipykernel_2273/2659399595.py:34: UserWarning: Could not infer format, so each element will be parsed individually, falling back to `dateutil`. To ensure parsing is consistent and as-expected, please specify a format.\n",
      "  pd.to_datetime(non_null_values, errors='raise')  # Raise error for invalid dates\n",
      "/tmp/ipykernel_2273/2659399595.py:34: UserWarning: Could not infer format, so each element will be parsed individually, falling back to `dateutil`. To ensure parsing is consistent and as-expected, please specify a format.\n",
      "  pd.to_datetime(non_null_values, errors='raise')  # Raise error for invalid dates\n"
     ]
    },
    {
     "name": "stdout",
     "output_type": "stream",
     "text": [
      "Processing table shippers\n"
     ]
    },
    {
     "name": "stderr",
     "output_type": "stream",
     "text": [
      "/tmp/ipykernel_2273/2659399595.py:34: UserWarning: Could not infer format, so each element will be parsed individually, falling back to `dateutil`. To ensure parsing is consistent and as-expected, please specify a format.\n",
      "  pd.to_datetime(non_null_values, errors='raise')  # Raise error for invalid dates\n",
      "/tmp/ipykernel_2273/2659399595.py:34: UserWarning: Could not infer format, so each element will be parsed individually, falling back to `dateutil`. To ensure parsing is consistent and as-expected, please specify a format.\n",
      "  pd.to_datetime(non_null_values, errors='raise')  # Raise error for invalid dates\n"
     ]
    },
    {
     "name": "stdout",
     "output_type": "stream",
     "text": [
      "Processing table region\n"
     ]
    },
    {
     "name": "stderr",
     "output_type": "stream",
     "text": [
      "/tmp/ipykernel_2273/2659399595.py:34: UserWarning: Could not infer format, so each element will be parsed individually, falling back to `dateutil`. To ensure parsing is consistent and as-expected, please specify a format.\n",
      "  pd.to_datetime(non_null_values, errors='raise')  # Raise error for invalid dates\n"
     ]
    },
    {
     "name": "stdout",
     "output_type": "stream",
     "text": [
      "Processing table territories\n"
     ]
    },
    {
     "name": "stderr",
     "output_type": "stream",
     "text": [
      "/tmp/ipykernel_2273/2659399595.py:34: UserWarning: Could not infer format, so each element will be parsed individually, falling back to `dateutil`. To ensure parsing is consistent and as-expected, please specify a format.\n",
      "  pd.to_datetime(non_null_values, errors='raise')  # Raise error for invalid dates\n",
      "/tmp/ipykernel_2273/2659399595.py:34: UserWarning: Could not infer format, so each element will be parsed individually, falling back to `dateutil`. To ensure parsing is consistent and as-expected, please specify a format.\n",
      "  pd.to_datetime(non_null_values, errors='raise')  # Raise error for invalid dates\n"
     ]
    },
    {
     "name": "stdout",
     "output_type": "stream",
     "text": [
      "Processing table employee_territories\n"
     ]
    },
    {
     "name": "stderr",
     "output_type": "stream",
     "text": [
      "/tmp/ipykernel_2273/2659399595.py:34: UserWarning: Could not infer format, so each element will be parsed individually, falling back to `dateutil`. To ensure parsing is consistent and as-expected, please specify a format.\n",
      "  pd.to_datetime(non_null_values, errors='raise')  # Raise error for invalid dates\n"
     ]
    },
    {
     "name": "stdout",
     "output_type": "stream",
     "text": [
      "Processing table order_details\n",
      "Processing table us_states\n",
      "Writing successfully executed.\n"
     ]
    },
    {
     "name": "stderr",
     "output_type": "stream",
     "text": [
      "/tmp/ipykernel_2273/2659399595.py:34: UserWarning: Could not infer format, so each element will be parsed individually, falling back to `dateutil`. To ensure parsing is consistent and as-expected, please specify a format.\n",
      "  pd.to_datetime(non_null_values, errors='raise')  # Raise error for invalid dates\n",
      "/tmp/ipykernel_2273/2659399595.py:34: UserWarning: Could not infer format, so each element will be parsed individually, falling back to `dateutil`. To ensure parsing is consistent and as-expected, please specify a format.\n",
      "  pd.to_datetime(non_null_values, errors='raise')  # Raise error for invalid dates\n",
      "/tmp/ipykernel_2273/2659399595.py:34: UserWarning: Could not infer format, so each element will be parsed individually, falling back to `dateutil`. To ensure parsing is consistent and as-expected, please specify a format.\n",
      "  pd.to_datetime(non_null_values, errors='raise')  # Raise error for invalid dates\n"
     ]
    }
   ],
   "source": [
    "# Data type to Avro mapping\n",
    "dtype_to_avro = {\n",
    "    'object': 'string',         # 'object' -> string\n",
    "    'int64': 'long',            # 'int64' -> long\n",
    "    'float64': 'double',        # 'float64' -> double\n",
    "    'datetime64[ns]': 'string', # 'datetime64[ns]' -> string (or 'long' if you want Unix timestamp)\n",
    "    'bool': 'boolean',          # 'bool' -> boolean\n",
    "    'category': 'string',       # 'category' -> string\n",
    "}\n",
    "\n",
    "# Fetch the table names and extract data to Avro\n",
    "table_names = fetch_tables_name(engine)\n",
    "result = extract_data_to_df(engine, table_names, dtype_to_avro)\n",
    "\n",
    "print(result)"
   ]
  }
 ],
 "metadata": {
  "kernelspec": {
   "display_name": ".venv",
   "language": "python",
   "name": "python3"
  },
  "language_info": {
   "codemirror_mode": {
    "name": "ipython",
    "version": 3
   },
   "file_extension": ".py",
   "mimetype": "text/x-python",
   "name": "python",
   "nbconvert_exporter": "python",
   "pygments_lexer": "ipython3",
   "version": "3.12.3"
  }
 },
 "nbformat": 4,
 "nbformat_minor": 2
}
